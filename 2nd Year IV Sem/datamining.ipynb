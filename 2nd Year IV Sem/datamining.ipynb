{
 "cells": [
  {
   "cell_type": "code",
   "execution_count": null,
   "metadata": {},
   "outputs": [],
   "source": [
    "import pandas as pd\n",
    "import numpy as np\n",
    "from sklearn.datasets import load_wine\n",
    "from scipy import stats"
   ]
  },
  {
   "cell_type": "code",
   "execution_count": null,
   "metadata": {},
   "outputs": [],
   "source": [
    "wine_data = load_wine()\n",
    "# wine_data\n",
    "\n",
    "wine_dataframe = pd.DataFrame(data=wine_data.data, columns=wine_data.feature_names)\n",
    "print(wine_dataframe)"
   ]
  },
  {
   "cell_type": "code",
   "execution_count": null,
   "metadata": {},
   "outputs": [],
   "source": [
    "wine_dataframe.isnull().sum()\n",
    "\n",
    "# Adding some null values for demonstration purpose\n",
    "wine_dataframe.loc[3:6, \"proline\"] = np.nan\n",
    "print(wine_dataframe.head(8))"
   ]
  },
  {
   "cell_type": "code",
   "execution_count": null,
   "metadata": {},
   "outputs": [],
   "source": [
    "print(wine_dataframe.isnull().sum())\n",
    "\n",
    "wine_dataframe[\"proline\"].fillna(wine_dataframe[\"proline\"].mean(), inplace=True)\n",
    "\n",
    "print(wine_dataframe.head(8))\n",
    "print(wine_dataframe.isnull().sum())"
   ]
  },
  {
   "cell_type": "code",
   "execution_count": null,
   "metadata": {},
   "outputs": [],
   "source": [
    "# Handling Outliers using z-score\n",
    "\n",
    "z_scores = np.abs(stats.zscore(wine_dataframe))\n",
    "outlier_indices = np.where(z_scores > 3)\n",
    "\n",
    "wine_dataframe_cleaned = wine_dataframe.drop(outlier_indices[0])\n",
    "print(wine_dataframe_cleaned)"
   ]
  },
  {
   "cell_type": "code",
   "execution_count": null,
   "metadata": {},
   "outputs": [],
   "source": [
    "wine_dataframe_cleaned[\"alcohol\"] = np.where(\n",
    "    (wine_dataframe_cleaned[\"alcohol\"] < 10) | (wine_dataframe_cleaned[\"alcohol\"] > 20),\n",
    "    wine_dataframe_cleaned[\"alcohol\"].mean(),\n",
    "    wine_dataframe_cleaned[\"alcohol\"],\n",
    ")\n",
    "# wine_dataframe_cleaned['alcohol'].fillna(wine_dataframe_cleaned['alcohol'].mean(), inplace=True)\n",
    "print(wine_dataframe_cleaned)"
   ]
  },
  {
   "cell_type": "markdown",
   "metadata": {
    "vscode": {
     "languageId": "html"
    }
   },
   "source": [
    "Question 1"
   ]
  },
  {
   "cell_type": "code",
   "execution_count": null,
   "metadata": {},
   "outputs": [],
   "source": [
    "import pandas as pd\n",
    "import numpy as np\n",
    "from sklearn.datasets import load_wine\n",
    "from scipy import stats\n",
    "\n",
    "wine_data = load_wine()\n",
    "print(wine_data)\n",
    "wine_df = pd.DataFrame(data=wine_data.data, columns=wine_data.feature_names)\n",
    "print(wine_df)\n",
    "print(wine_df.isnull().sum())\n",
    "\n",
    "wine_df.loc[0:3, \"proline\"] = np.nan\n",
    "print(wine_df.head(3))\n",
    "\n",
    "\n",
    "wine_df[\"proline\"].fillna(wine_df[\"proline\"].mean(), inplace=True)\n",
    "print(wine_df.head(3))\n",
    "\n",
    "\n",
    "z_scores = np.abs(stats.zscore(wine_df))\n",
    "outlier_ind = np.where(z_scores > 3)\n",
    "print(outlier_ind)\n",
    "\n",
    "wine_df_cl = wine_df.drop(outlier_ind[0])\n",
    "\n",
    "wine_df_cl[\"alcohol\"] = np.where((wine_df_cl[\"alcohol\"] < 10 ) | wine_df_cl[\"alcohol\"] > 20, wine_df_cl[\"alcohol\"].mean(), wine_df_cl[\"alcohol\"])"
   ]
  },
  {
   "cell_type": "markdown",
   "metadata": {},
   "source": [
    "Question 2"
   ]
  },
  {
   "cell_type": "code",
   "execution_count": 95,
   "metadata": {},
   "outputs": [
    {
     "name": "stdout",
     "output_type": "stream",
     "text": [
      "   Sales   Age  Customer\n",
      "0    100   625        10\n",
      "1    150  1600        15\n",
      "2     80  1225         8\n",
      "3    120   784        12\n",
      "      Sales       Age  Customer\n",
      "0 -0.483368 -1.134311 -0.483368\n",
      "1  1.450105  1.416907  1.450105\n",
      "2 -1.256757  0.435669 -1.256757\n",
      "3  0.290021 -0.718266  0.290021\n",
      "      Sales       Age  Customer\n",
      "0  0.285714  0.000000  0.285714\n",
      "1  1.000000  1.000000  1.000000\n",
      "2  0.000000  0.615385  0.000000\n",
      "3  0.571429  0.163077  0.571429\n"
     ]
    }
   ],
   "source": [
    "from sklearn.decomposition import PCA\n",
    "from sklearn.preprocessing import StandardScaler, MinMaxScaler\n",
    "\n",
    "data = {\n",
    "    \"Category\": [\"A\", \"B\", \"A\", \"B\"],\n",
    "    \"Sales\": [100, 150, 80, 120],\n",
    "    \"Age\": [25, 40, 35, 28],\n",
    "    \"Customer\": [10, 15, 8, 12],\n",
    "}\n",
    "df = pd.DataFrame(data)\n",
    "df_aggregated = df.groupby(\"Category\")[\"Sales\"].sum()\n",
    "\n",
    "df[\"Sales/Person\"] = df[\"Sales\"] / df[\"Customer\"]\n",
    "df[\"Binary Age\"] = (df[\"Age\"] > 30).astype(int)\n",
    "sample_df = df.sample(frac=0.3, random_state=42)\n",
    "\n",
    "df[\"Age\"] = df[\"Age\"] ** 2\n",
    "# df\n",
    "\n",
    "numerical_columns = [\"Sales\", \"Age\", \"Customer\"]\n",
    "numerical_data = df[numerical_columns]\n",
    "print(numerical_data)\n",
    "\n",
    "scaler_std = StandardScaler().fit_transform(numerical_data)\n",
    "scaler_minmax = MinMaxScaler().fit_transform(numerical_data)\n",
    "df_std = pd.DataFrame(scaler_std, columns=numerical_columns)\n",
    "df_nor = pd.DataFrame(scaler_minmax, columns=numerical_columns)\n",
    "print(df_std)\n",
    "print(df_nor)"
   ]
  },
  {
   "cell_type": "markdown",
   "metadata": {},
   "source": [
    "Question 3"
   ]
  },
  {
   "cell_type": "code",
   "execution_count": 103,
   "metadata": {},
   "outputs": [],
   "source": [
    "#Dividing Data into train and test hold_out\n",
    "\n",
    "from sklearn import datasets\n",
    "from sklearn.model_selection import train_test_split\n",
    "from sklearn.neighbors import KNeighborsClassifier\n",
    "from sklearn.metrics import accuracy_score\n",
    "import numpy as np\n",
    "\n",
    "# Load datasets\n",
    "iris = datasets.load_iris()\n",
    "wine = datasets.load_wine()\n",
    "\n",
    "# Split datasets into training (75%) and testing (25%)\n",
    "X_train_iris, X_test_iris, y_train_iris, y_test_iris = train_test_split(\n",
    "    iris.data, iris.target, test_size=0.25, random_state=42)\n",
    "\n",
    "X_train_wine, X_test_wine, y_train_wine, y_test_wine = train_test_split(\n",
    "    wine.data, wine.target, test_size=0.25, random_state=42)\n",
    "\n",
    "\n",
    "\n"
   ]
  },
  {
   "cell_type": "code",
   "execution_count": 104,
   "metadata": {},
   "outputs": [],
   "source": [
    "import numpy as np\n",
    "from sklearn import datasets\n",
    "from sklearn.model_selection import train_test_split\n",
    "from sklearn.tree import DecisionTreeClassifier\n",
    "from sklearn.metrics import accuracy_score\n",
    "\n",
    "clf = DecisionTreeClassifier(random_state=42)\n",
    "clf.fit(X_train_iris, y_train_iris)\n",
    "y_pred_iris = clf.predict(X_test_iris)\n",
    "accuracy_iris = accuracy_score(y_test_iris, y_pred_iris)"
   ]
  },
  {
   "cell_type": "code",
   "execution_count": 105,
   "metadata": {},
   "outputs": [
    {
     "name": "stdout",
     "output_type": "stream",
     "text": [
      "[1.         0.96666667 0.93333333 0.93333333 0.93333333]\n"
     ]
    }
   ],
   "source": [
    "#Code for cross validation\n",
    "\n",
    "from sklearn import datasets\n",
    "from sklearn.tree import DecisionTreeClassifier\n",
    "from sklearn.model_selection import cross_val_score, KFold\n",
    "from sklearn.metrics import make_scorer, accuracy_score\n",
    "\n",
    "iris = datasets.load_iris()\n",
    "\n",
    "clf = DecisionTreeClassifier(random_state=42)\n",
    "kf = KFold(n_splits=5, shuffle=True, random_state=42)\n",
    "\n",
    "iris_accuracies = cross_val_score(clf, iris.data, iris.target, cv=kf, scoring='accuracy')\n",
    "\n",
    "print(iris_accuracies)"
   ]
  },
  {
   "cell_type": "code",
   "execution_count": 106,
   "metadata": {},
   "outputs": [
    {
     "name": "stderr",
     "output_type": "stream",
     "text": [
      "C:\\Users\\Sudeep\\AppData\\Local\\Packages\\PythonSoftwareFoundation.Python.3.11_qbz5n2kfra8p0\\LocalCache\\local-packages\\Python311\\site-packages\\sklearn\\cluster\\_kmeans.py:1416: FutureWarning: The default value of `n_init` will change from 10 to 'auto' in 1.4. Set the value of `n_init` explicitly to suppress the warning\n",
      "  super()._check_params_vs_input(X, default_n_init=10)\n"
     ]
    },
    {
     "name": "stdout",
     "output_type": "stream",
     "text": [
      "Cluster centroids:\n",
      "[[7.33333333 9.        ]\n",
      " [1.16666667 1.13333333]]\n",
      "Assigned cluster labels:\n",
      "[1 1 0 0 1 0]\n"
     ]
    },
    {
     "name": "stderr",
     "output_type": "stream",
     "text": [
      "C:\\Users\\Sudeep\\AppData\\Local\\Packages\\PythonSoftwareFoundation.Python.3.11_qbz5n2kfra8p0\\LocalCache\\local-packages\\Python311\\site-packages\\sklearn\\cluster\\_agglomerative.py:1006: FutureWarning: Attribute `affinity` was deprecated in version 1.2 and will be removed in 1.4. Use `metric` instead\n",
      "  warnings.warn(\n"
     ]
    }
   ],
   "source": [
    "#K-means\n",
    "\n",
    "import numpy as np\n",
    "from sklearn.cluster import KMeans\n",
    "import matplotlib.pyplot as plt\n",
    "\n",
    "data = np.array([[1, 1], [1.5, 1.8], [5, 8], [8, 8], [1, 0.6], [9, 11]])\n",
    "\n",
    "n_clusters = 2\n",
    "kmeans = KMeans(n_clusters=n_clusters, random_state=0)\n",
    "kmeans.fit(data)\n",
    "\n",
    "print(\"Cluster centroids:\")\n",
    "print(kmeans.cluster_centers_)\n",
    "\n",
    "print(\"Assigned cluster labels:\")\n",
    "print(kmeans.labels_)\n",
    "\n",
    "#DBSCAN\n",
    "\n",
    "from sklearn.cluster import DBSCAN\n",
    "dbscan = DBSCAN(eps=7, min_samples=5)\n",
    "labels = dbscan.fit_predict(data)\n",
    "np.unique(labels)\n",
    "\n",
    "#Agglomerative\n",
    "\n",
    "from sklearn.cluster import AgglomerativeClustering\n",
    "\n",
    "cluster = AgglomerativeClustering(n_clusters=5, affinity='euclidean', linkage='ward')\n",
    "labels_=cluster.fit_predict(data)"
   ]
  }
 ],
 "metadata": {
  "kernelspec": {
   "display_name": "Python 3",
   "language": "python",
   "name": "python3"
  },
  "language_info": {
   "codemirror_mode": {
    "name": "ipython",
    "version": 3
   },
   "file_extension": ".py",
   "mimetype": "text/x-python",
   "name": "python",
   "nbconvert_exporter": "python",
   "pygments_lexer": "ipython3",
   "version": "3.11.9"
  }
 },
 "nbformat": 4,
 "nbformat_minor": 2
}
